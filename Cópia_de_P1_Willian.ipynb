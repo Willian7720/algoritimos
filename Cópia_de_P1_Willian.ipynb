{
  "nbformat": 4,
  "nbformat_minor": 0,
  "metadata": {
    "colab": {
      "provenance": [],
      "authorship_tag": "ABX9TyM3v/yNcpk2pPVvYJgqL7jt",
      "include_colab_link": true
    },
    "kernelspec": {
      "name": "python3",
      "display_name": "Python 3"
    },
    "language_info": {
      "name": "python"
    }
  },
  "cells": [
    {
      "cell_type": "markdown",
      "metadata": {
        "id": "view-in-github",
        "colab_type": "text"
      },
      "source": [
        "<a href=\"https://colab.research.google.com/github/Willian7720/algoritimos/blob/main/C%C3%B3pia_de_P1_Willian.ipynb\" target=\"_parent\"><img src=\"https://colab.research.google.com/assets/colab-badge.svg\" alt=\"Open In Colab\"/></a>"
      ]
    },
    {
      "cell_type": "code",
      "execution_count": null,
      "metadata": {
        "id": "NbH7s862MQJ5",
        "colab": {
          "base_uri": "https://localhost:8080/"
        },
        "outputId": "ae9c06ff-951e-4e08-bd82-b177e2c27cd1"
      },
      "outputs": [
        {
          "output_type": "stream",
          "name": "stdout",
          "text": [
            "Digite seu nomeWillian\n",
            "Olá, bem vindo Willian\n"
          ]
        }
      ],
      "source": [
        "# 1 nome e boas vindas\n",
        "\n",
        "nome = input(\"Digite seu nome \")\n",
        "print(\"Olá, bem vindo\",nome)\n",
        "\n",
        "\n",
        "\n"
      ]
    },
    {
      "cell_type": "code",
      "source": [
        "# 2 Solicite dois números\n",
        "\n",
        "n1 = float(input(\"Digite primeiro número: \"))\n",
        "n2 = float(input(\"Digite segundo número: \"))\n",
        "\n",
        "soma = float(n1 + n2)\n",
        "print(\"Soma de n1 e n2: \",round(soma,2))\n",
        "\n",
        "subtracao = float(n1 - n2)\n",
        "print(\"Subtração de n1 e n2: \",round(subtracao,2))\n",
        "\n",
        "divisao = float(n1 / n2)\n",
        "print(\"Divisao de n1 e n2: \",round(divisao,2))\n",
        "\n",
        "\n",
        "multiplicacao = float(n1 * n2)\n",
        "print(\"Multiplicação de n1 e n2: \",round(multiplicacao,2))\n"
      ],
      "metadata": {
        "colab": {
          "base_uri": "https://localhost:8080/"
        },
        "id": "Pu1H5Pi7Pkty",
        "outputId": "d3f9c90d-7592-41cc-f670-2f6168a872fa"
      },
      "execution_count": null,
      "outputs": [
        {
          "output_type": "stream",
          "name": "stdout",
          "text": [
            "Digite primeiro número: 50\n",
            "Digite segundo número: 100\n",
            "Soma de n1 e n2:  150\n",
            "Subtração de n1 e n2:  -50\n",
            "Divisao de n1 e n2:  0.5\n",
            "Multiplicação de n1 e n2:  5000\n"
          ]
        }
      ]
    },
    {
      "cell_type": "code",
      "source": [
        "# 3 Carro econômico\n",
        "\n",
        "valoAbastecer = float(input(\"Digite valor que deseja abastecer em R$: \"))\n",
        "\n",
        "monePorLitros = float(valoAbastecer / 5 )\n",
        "print(\"Você pode comprar\",round(monePorLitros,2), \"litros de combustíveis\")\n",
        "\n",
        "kmComprados = float(monePorLitros * 20)\n",
        "print(\"Você poderá andar \",round(kmComprados,2),\"Km com a quantidade de combustível comprada\")\n"
      ],
      "metadata": {
        "colab": {
          "base_uri": "https://localhost:8080/"
        },
        "id": "RtUhefInU4uq",
        "outputId": "601eebbf-08e9-4132-d83c-ca338bb4888d"
      },
      "execution_count": null,
      "outputs": [
        {
          "output_type": "stream",
          "name": "stdout",
          "text": [
            "Digite valor que deseja abastecer em R$: 12.35\n",
            "Você pode comprar 2.47 litros de combustíveis\n",
            "Você poderá andar  49.4 Km com a quantidade de combustível comprada\n"
          ]
        }
      ]
    },
    {
      "cell_type": "code",
      "source": [
        "# 4 Verdadeiro ou falso\n",
        "\n",
        "v1 = 15\n",
        "v2 = 10\n",
        "v3 = 5\n",
        "v4 = 0\n",
        "\n",
        "#4a\n",
        "\n",
        "item4a = (v1 == 10) and (v2 == 10)\n",
        "print(\"4a = \",item4a)\n",
        "\n",
        "item4b = (v1 == 15 ) and (v2 == 10)\n",
        "print(\"4b =\",item4b)\n",
        "\n",
        "item4c = (v4 == 1)or (v3==4)\n",
        "print(\"4c =\",item4c)\n",
        "\n",
        "item4d = (v1 > 10 and v2 < 15) and (v3 < 10 and v4 == 0)\n",
        "print(\"4d =\",item4d)\n",
        "\n",
        "item4e = (v1 < 10 and v2 > 15) or (v3 > 5 or v4 == 0)\n",
        "print(\"4e =\",item4e)\n",
        "\n",
        "\n"
      ],
      "metadata": {
        "id": "_zgH53ANae4w",
        "colab": {
          "base_uri": "https://localhost:8080/"
        },
        "outputId": "1357fcbf-4dea-4a96-b7fc-177479c28852"
      },
      "execution_count": 20,
      "outputs": [
        {
          "output_type": "stream",
          "name": "stdout",
          "text": [
            "4a =  False\n",
            "4b = True\n",
            "4c = False\n",
            "4d = True\n",
            "4e = True\n"
          ]
        }
      ]
    },
    {
      "cell_type": "code",
      "source": [
        "# 5 (Quantidade de dias)\n",
        "\n",
        "diasIni = int(input(\"Digite quantidade de dias: \"))\n",
        "\n",
        "anos = int(diasIni // 360)\n",
        "meses = int((diasIni % 360)//30)\n",
        "diasCalculo = int(diasIni % 30)\n",
        "\n",
        "print(anos,\"Ano,\",meses,\"meses e \",diasCalculo,\"dias\")"
      ],
      "metadata": {
        "colab": {
          "base_uri": "https://localhost:8080/"
        },
        "id": "Kjrs2EyTlszF",
        "outputId": "4e56886e-ef62-4f0f-c861-a138d3504018"
      },
      "execution_count": 32,
      "outputs": [
        {
          "output_type": "stream",
          "name": "stdout",
          "text": [
            "Digite quantidade de dias: 523\n",
            "1 Ano, 5 meses e  13 dias\n"
          ]
        }
      ]
    },
    {
      "cell_type": "code",
      "source": [
        "#5\n"
      ],
      "metadata": {
        "id": "bRT3GwqsoXLS"
      },
      "execution_count": null,
      "outputs": []
    }
  ]
}